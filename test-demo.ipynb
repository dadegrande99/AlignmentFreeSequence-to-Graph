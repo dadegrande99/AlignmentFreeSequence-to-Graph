{
 "cells": [
  {
   "cell_type": "code",
   "execution_count": null,
   "metadata": {},
   "outputs": [],
   "source": [
    "from alignmentfreegraph import AlignmentFreeGraph\n",
    "db = AlignmentFreeGraph(configuration=\"credentials.json\")"
   ]
  },
  {
   "cell_type": "code",
   "execution_count": null,
   "metadata": {},
   "outputs": [],
   "source": [
    "db.query(\"MATCH ()-[r]->() RETURN COUNT(r) AS total_relationships\")"
   ]
  },
  {
   "cell_type": "code",
   "execution_count": null,
   "metadata": {},
   "outputs": [],
   "source": [
    "db.query(\"MATCH (n) RETURN COUNT(n) AS total_nodes\")"
   ]
  },
  {
   "cell_type": "code",
   "execution_count": null,
   "metadata": {},
   "outputs": [],
   "source": [
    "db.set_k(5)\n",
    "ht = db.get_hashtable()\n",
    "print(\"- Hash table with k=5\")\n",
    "print(f\"- HashTable length: {len(ht)}\")\n",
    "print(f\"- Number of paths: {len(set([arc for el in ht for arc in ht[el][1]]))}\")\n",
    "ht"
   ]
  },
  {
   "cell_type": "code",
   "execution_count": null,
   "metadata": {},
   "outputs": [],
   "source": [
    "db.set_k(10)\n",
    "ht = db.get_hashtable()\n",
    "print(\"- Hash table with k=5\")\n",
    "print(f\"- HashTable length: {len(ht)}\")\n",
    "print(f\"- Number of paths: {len(set([arc for el in ht for arc in ht[el][1]]))}\")\n",
    "ht\n",
    "db.get_hashtable()"
   ]
  },
  {
   "cell_type": "code",
   "execution_count": null,
   "metadata": {},
   "outputs": [],
   "source": [
    "test = \"GACCGAGACATTTATATAAC\"\n",
    "db.sequence_from_hash(test)"
   ]
  }
 ],
 "metadata": {
  "kernelspec": {
   "display_name": "base",
   "language": "python",
   "name": "python3"
  },
  "language_info": {
   "codemirror_mode": {
    "name": "ipython",
    "version": 3
   },
   "file_extension": ".py",
   "mimetype": "text/x-python",
   "name": "python",
   "nbconvert_exporter": "python",
   "pygments_lexer": "ipython3",
   "version": "3.10.12"
  }
 },
 "nbformat": 4,
 "nbformat_minor": 2
}
